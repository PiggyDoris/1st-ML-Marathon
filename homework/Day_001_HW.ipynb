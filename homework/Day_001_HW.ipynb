{
 "cells": [
  {
   "cell_type": "markdown",
   "metadata": {},
   "source": [
    "## 練習時間\n",
    "#### 請寫一個函式用來計算 Mean Square Error\n",
    "$ MSE = \\frac{1}{n}\\sum_{i=1}^{n}{(Y_i - \\hat{Y}_i)^2} $\n",
    "\n",
    "### Hint: [如何取平方](https://googoodesign.gitbooks.io/-ezpython/unit-1.html)"
   ]
  },
  {
   "cell_type": "markdown",
   "metadata": {},
   "source": [
    "# [作業目標]\n",
    "- 仿造範例的MAE函數, 自己寫一個MSE函數(參考上面公式)"
   ]
  },
  {
   "cell_type": "markdown",
   "metadata": {},
   "source": [
    "# [作業重點]\n",
    "- 注意程式的縮排\n",
    "- 是否能將數學公式, 轉換為 Python 的函式組合? (In[2], Out[2])"
   ]
  },
  {
   "cell_type": "code",
   "execution_count": 4,
   "metadata": {},
   "outputs": [],
   "source": [
    "# 載入基礎套件與代稱\n",
    "import numpy as np\n",
    "import matplotlib.pyplot as plt"
   ]
  },
  {
   "cell_type": "code",
   "execution_count": 13,
   "metadata": {},
   "outputs": [],
   "source": [
    "def mean_absolute_error(y, yp):\n",
    "    \"\"\"\n",
    "    計算 MAE\n",
    "    Args:\n",
    "        - y: 實際值\n",
    "        - yp: 預測值\n",
    "    Return:\n",
    "        - mae: MAE\n",
    "    \"\"\"\n",
    "    mae = MAE = sum(abs(y - yp)) / len(y)\n",
    "    return mae\n",
    "\n",
    "# 定義 mean_squared_error 這個函數, 計算並傳回 MSE\n",
    "def mean_squared_error(y, yp):\n",
    "    \"\"\"\n",
    "    請完成這個 Function 後往下執行\n",
    "    \"\"\"\n",
    "    mse = MSE = sum((y - yp)**2) / len(y)\n",
    "    return mse"
   ]
  },
  {
   "cell_type": "code",
   "execution_count": 14,
   "metadata": {},
   "outputs": [
    {
     "data": {
      "image/png": "[encoded data removed]",
      "text/plain": [
       "<Figure size 432x288 with 1 Axes>"
      ]
     },
     "metadata": {
      "needs_background": "light"
     },
     "output_type": "display_data"
    }
   ],
   "source": [
    "# 與範例相同, 不另外解說\n",
    "w = 3\n",
    "b = 0.5\n",
    "x_lin = np.linspace(0, 100, 101)\n",
    "y = (x_lin + np.random.randn(101) * 5) * w + b\n",
    "\n",
    "plt.plot(x_lin, y, 'b.', label = 'data points')\n",
    "plt.title(\"Assume we have data points\")\n",
    "plt.legend(loc = 2)\n",
    "plt.show()"
   ]
  },
  {
   "cell_type": "code",
   "execution_count": 15,
   "metadata": {},
   "outputs": [
    {
     "data": {
      "image/png": "[encoded data removed]",
      "text/plain": [
       "<Figure size 432x288 with 1 Axes>"
      ]
     },
     "metadata": {
      "needs_background": "light"
     },
     "output_type": "display_data"
    }
   ],
   "source": [
    "# 與範例相同, 不另外解說\n",
    "y_hat = x_lin * w + b\n",
    "plt.plot(x_lin, y, 'b.', label = 'data')\n",
    "plt.plot(x_lin, y_hat, 'r-', label = 'prediction')\n",
    "plt.title(\"Assume we have data points (And the prediction)\")\n",
    "plt.legend(loc = 2)\n",
    "plt.show()"
   ]
  },
  {
   "cell_type": "code",
   "execution_count": 16,
   "metadata": {},
   "outputs": [
    {
     "name": "stdout",
     "output_type": "stream",
     "text": [
      "The Mean squared error is 252.764\n",
      "The Mean absolute error is 12.519\n"
     ]
    }
   ],
   "source": [
    "# 執行 Function, 確認有沒有正常執行\n",
    "MSE = mean_squared_error(y, y_hat)\n",
    "MAE = mean_absolute_error(y, y_hat)\n",
    "print(\"The Mean squared error is %.3f\" % (MSE))\n",
    "print(\"The Mean absolute error is %.3f\" % (MAE))"
   ]
  },
  {
   "cell_type": "markdown",
   "metadata": {},
   "source": [
    "# [作業2]\n",
    "\n",
    "請上 Kaggle, 在 Competitions 或 Dataset 中找一組競賽或資料並寫下：\n",
    "\n",
    "1. 你選的這組資料為何重要\n",
    "    可以分析計程車司機哪時候生意最好，並推測原因\n",
    "    這組資料完整\n",
    "2. 資料從何而來 (tips: 譬如提供者是誰、以什麼方式蒐集)\n",
    "    基於2016年紐約市黃色出租車出行的記錄數據，該數據可在Google Cloud Platform的Big Query中獲得。 \n",
    "    該數據最初由紐約市出租車和豪華轎車委員會（TLC）發布。\n",
    "3. 蒐集而來的資料型態為何\n",
    "    結構化資料需要檢視欄位意義以及名稱\n",
    "    id-每次旅行的唯一標識符\n",
    "    vendor_id-指示與行程記錄關聯的提供商的代碼\n",
    "    Pickup_datetime-使用電錶的日期和時間\n",
    "    dropoff_datetime-儀表斷開連接的日期和時間\n",
    "    passenger_count-車輛中的乘客人數（駕駛員輸入的值）\n",
    "    Pickup_longitude-儀表使用的經度\n",
    "    Pickup_Latitude-儀表使用的緯度\n",
    "    dropoff_longitude-儀表脫離的經度\n",
    "    dropoff_latitude-儀表脫離的緯度\n",
    "    store_and_fwd_flag-此標誌指示在發送給賣方之前，行程記錄是否已保存在車輛內存中，因為車輛與服務器沒有連接\n",
    "    Y =存儲並轉發； N =不是商店和前程\n",
    "    trip_duration-行程持續時間（以秒為單位）\n",
    "4. 這組資料想解決的問題如何評估\n",
    "    *預測紐約市出租車旅行的總行駛時間*,包括上車時間，地理坐標，乘客人數以及其他幾個變量。\n",
    "    先通過上下車地點經緯度計算行程距離，再用行程距離/行程時間得出行車均速。行車均速可體現道路暢通擁堵程度。\n",
    "    接單時間和訂單行程時間/路程距離。算出哪個時間容易接到長途單\n",
    "\n",
    "# [作業3]\n",
    "\n",
    "想像你經營一個自由載客車隊，你希望能透過數據分析以提升業績，請你思考並描述你如何規劃整體的分析/解決方案：\n",
    "\n",
    "1. 核心問題為何 (tips：如何定義 「提升業績 & 你的假設」)\n",
    "    *提升業績：\n",
    "        1. 哪個時間的地方比較多人搭車\n",
    "        2. 哪個地點司機平均可以賺較多錢\n",
    "        3. 平均多久載到客人\n",
    "        4. 哪個時間休息最有效率\n",
    "        5. 司機在這個區域是否數量已經偏多\n",
    "        6. 利用line叫車的人數是多少\n",
    "    *你的假設:\n",
    "        1. 比較多人搭車的地方司機普遍可以賺比較多錢\n",
    "        3. 司機過於聚集造成平均收入降低\n",
    "        4. 同時使用line 系統載客空車率降低\n",
    "2. 資料從何而來 (tips：哪些資料可能會對你想問的問題產生影響 & 資料如何蒐集)\n",
    "    *哪些資料可能會對你想問的問題產生影響\n",
    "        1. 一趟可以賺多少錢\n",
    "        2. 空車率為何\n",
    "        3. 哪個時段空車率最高\n",
    "        4. 地區資料\n",
    "        5. 路上載客的載客數\n",
    "        6. 利用line平台的載客數\n",
    "    *資料如何蒐集\n",
    "        1. 學術調查資料庫取得全地區資料\n",
    "        2. 司機車上的機器取得多久沒載客\n",
    "        3. 司機的手機line載客數自動統計\n",
    "        4. 司機車上的GPS\n",
    "\n",
    "3. 蒐集而來的資料型態為何\n",
    "    結構化資料需要檢視欄位意義以及名稱\n",
    "\n",
    "4. 你要回答的問題，其如何評估 (tips：你的假設如何驗證)\n",
    "    1. 比較多人搭車的地方司機普遍可以賺比較多錢 \n",
    "        如加入上車的時間地點、下車的地點、賺了多少錢、空車率較低 → 空車率較低的地可以賺多少錢：迴歸 (Mean Squared Error, MSE)     \n",
    "    2. 司機過於聚集造成平均收入降低\n",
    "        加入空車率、司機數量、司機地區、收入 → 空車率與司機數量與收入之間的正相關性\n",
    "    3. 同時使用line 系統載客空車率降低\n",
    "        加入同時使用line的司機載客數 、只在路上載客的司機、空車率 → line的司機載客數與只在路上載客的司機空車率的比較"
   ]
  }
 ],
 "metadata": {
  "anaconda-cloud": {},
  "kernelspec": {
   "display_name": "Python 3",
   "language": "python",
   "name": "python3"
  },
  "language_info": {
   "codemirror_mode": {
    "name": "ipython",
    "version": 3
   },
   "file_extension": ".py",
   "mimetype": "text/x-python",
   "name": "python",
   "nbconvert_exporter": "python",
   "pygments_lexer": "ipython3",
   "version": "3.7.6"
  }
 },
 "nbformat": 4,
 "nbformat_minor": 1
}
